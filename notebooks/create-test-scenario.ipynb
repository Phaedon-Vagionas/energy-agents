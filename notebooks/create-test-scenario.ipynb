{
 "cells": [
  {
   "cell_type": "markdown",
   "metadata": {},
   "source": [
    "# Test Scenario Creation\n",
    "\n",
    "This notebook creates a test scenario for the energy agents simulation. The scenario file contains all necessary information on dwellings and on citizens and simulation parameter. Technically, the scenario file is a SQLite database.\n",
    "\n",
    "The database has the following tables:\n",
    "\n",
    "* `markovChains` : a simple mapping from markov chain id to markov chain table name\n",
    "* `markov_chain001` .. `markov_chainXYZ`: one table per heterogeneous markov chain. Name is arbitrary.\n",
    "* `dwellings`: a table for all dwellings, containing all thermal parameters and a link to UKBuildings\n",
    "* `people`: a table for all people, a simple mapping to a dwelling and a link to the markov chain\n",
    "* `environment`: a table with all environmental time series, currently temperature only\n",
    "* `parameters`: a table with all simulation parameters"
   ]
  },
  {
   "cell_type": "code",
   "execution_count": null,
   "metadata": {},
   "outputs": [],
   "source": [
    "from pathlib import Path\n",
    "from collections import namedtuple\n",
    "import random\n",
    "import math\n",
    "\n",
    "import numpy as np\n",
    "import pandas as pd\n",
    "import sqlalchemy\n",
    "import matplotlib.pyplot as plt\n",
    "import pytz\n",
    "%matplotlib inline\n",
    "\n",
    "import people\n",
    "from people import Activity, WeekMarkovChain"
   ]
  },
  {
   "cell_type": "code",
   "execution_count": null,
   "metadata": {},
   "outputs": [],
   "source": [
    "PATH_TO_DB = Path('../target/notebook/test-scenario.db').absolute()\n",
    "PATH_TO_DB.parent.mkdir(parents=True, exist_ok=True)\n",
    "MARKOV_CHAIN_INDEX_TABLE_NAME = 'markovChains'\n",
    "DWELLINGS_TABLE_NAME = 'dwellings'\n",
    "PEOPLE_TABLE_NAME = 'people'\n",
    "ENVIRONMENT_TABLE_NAME = 'environment'\n",
    "PARAMETERS_TABLE_NAME = 'parameters'"
   ]
  },
  {
   "cell_type": "code",
   "execution_count": null,
   "metadata": {},
   "outputs": [],
   "source": [
    "random.seed('test-scenario-creation')"
   ]
  },
  {
   "cell_type": "code",
   "execution_count": null,
   "metadata": {},
   "outputs": [],
   "source": [
    "def df_to_db(df, table_name):\n",
    "    disk_engine = sqlalchemy.create_engine('sqlite:///{}'.format(PATH_TO_DB))\n",
    "    df.to_sql(name=table_name, con=disk_engine)"
   ]
  },
  {
   "cell_type": "markdown",
   "metadata": {},
   "source": [
    "## Activity Markov Chains\n",
    "\n",
    "In the following arbitrary test markov chains are created."
   ]
  },
  {
   "cell_type": "code",
   "execution_count": null,
   "metadata": {},
   "outputs": [],
   "source": [
    "from datetime import time, timedelta\n",
    "\n",
    "def weekday_time_series1():\n",
    "    index = [time(0, 0), time(12, 0)]\n",
    "    values1 = [Activity.HOME, Activity.NOT_AT_HOME]\n",
    "    values2 = [Activity.HOME, Activity.HOME]\n",
    "    values3 = [Activity.NOT_AT_HOME, Activity.NOT_AT_HOME]\n",
    "    return pd.DataFrame(\n",
    "        index=index,\n",
    "        data={'person1': values1, 'person2': values2, 'person3': values3}\n",
    "    )\n",
    "\n",
    "def weekday_time_series2():\n",
    "    index = [time(0, 0), time(12, 0)]\n",
    "    values1 = [Activity.HOME, Activity.HOME]\n",
    "    values2 = [Activity.HOME, Activity.HOME]\n",
    "    values3 = [Activity.NOT_AT_HOME, Activity.NOT_AT_HOME]\n",
    "    values4 = [Activity.HOME, Activity.NOT_AT_HOME]\n",
    "    return pd.DataFrame(\n",
    "        index=index,\n",
    "        data={'person1': values1, 'person2': values2, 'person3': values3, 'person4': values4}\n",
    "    )\n",
    "\n",
    "\n",
    "def weekend_day_time_series1():\n",
    "    index = [time(0, 0), time(12, 0)]\n",
    "    values1 = [Activity.HOME, Activity.HOME]\n",
    "    values2 = [Activity.NOT_AT_HOME, Activity.HOME]\n",
    "    values3 = [Activity.HOME, Activity.NOT_AT_HOME]\n",
    "    return pd.DataFrame(\n",
    "        index=index,\n",
    "        data={'person1': values1, 'person2': values2, 'person3': values3}\n",
    "    )\n",
    "\n",
    "def weekend_day_time_series2():\n",
    "    index = [time(0, 0), time(12, 0)]\n",
    "    values1 = [Activity.HOME, Activity.NOT_AT_HOME]\n",
    "    values2 = [Activity.HOME, Activity.HOME]\n",
    "    values3 = [Activity.NOT_AT_HOME, Activity.NOT_AT_HOME]\n",
    "    values4 = [Activity.HOME, Activity.NOT_AT_HOME]\n",
    "    return pd.DataFrame(\n",
    "        index=index,\n",
    "        data={'person1': values1, 'person2': values2, 'person3': values3, 'person4': values4}\n",
    "    )\n",
    "\n",
    "def markov_chain(weekday_time_series, weekend_day_time_series):\n",
    "    return WeekMarkovChain(\n",
    "        weekday_time_series=weekday_time_series,\n",
    "        weekend_time_series=weekend_day_time_series,\n",
    "        time_step_size=timedelta(hours=12)\n",
    "    )\n",
    "\n",
    "\n",
    "def full_chain_to_sql(full_chain, table_name):\n",
    "    df = full_chain.to_dataframe()\n",
    "    df.fromActivity = [str(x) for x in df.fromActivity]\n",
    "    df.toActivity = [str(x) for x in df.toActivity]\n",
    "    df_to_db(df, table_name)\n",
    "    \n",
    "\n",
    "def index_table_to_sql(chain_index):\n",
    "    df = pd.Series(chain_index, name='tablename')\n",
    "    df_to_db(df, MARKOV_CHAIN_INDEX_TABLE_NAME)"
   ]
  },
  {
   "cell_type": "code",
   "execution_count": null,
   "metadata": {},
   "outputs": [],
   "source": [
    "full_chain_to_sql(markov_chain(weekday_time_series1(), weekend_day_time_series1()), 'markov_chain001')\n",
    "full_chain_to_sql(markov_chain(weekday_time_series2(), weekend_day_time_series2()), 'markov_chain002')\n",
    "index_table_to_sql({89: 'markov_chain001', 22: 'markov_chain002'})"
   ]
  },
  {
   "cell_type": "markdown",
   "metadata": {},
   "source": [
    "## Dwellings"
   ]
  },
  {
   "cell_type": "code",
   "execution_count": null,
   "metadata": {},
   "outputs": [],
   "source": [
    "class UniformDistributedParameter():\n",
    "    \n",
    "    def __init__(self, expected_value, variation_in_percent):\n",
    "        self.__expected_value = expected_value\n",
    "        self.__random_max = expected_value * variation_in_percent / 100\n",
    "        \n",
    "    def sample(self):\n",
    "        return self.__expected_value + random.uniform(-self.__random_max, self.__random_max)\n",
    "   \n",
    "\n",
    "CONDITIONED_FLOOR_AREA = 100 # m^2\n",
    "THERMAL_MASS_CAPACITY = UniformDistributedParameter(165000 * CONDITIONED_FLOOR_AREA, 20.0)\n",
    "THERMAL_MASS_AREA = UniformDistributedParameter(2.5 * CONDITIONED_FLOOR_AREA, 20.0)\n",
    "ROOM_HEIGHT = UniformDistributedParameter(3, 20.0)\n",
    "WINDOW_TO_WALL_RATIO = UniformDistributedParameter(0.19, 20.0)\n",
    "U_VALUE_WALL = UniformDistributedParameter(0.26, 20.0)\n",
    "U_VALUE_ROOF = UniformDistributedParameter(0.12, 20.0)\n",
    "U_VALUE_FLOOR = UniformDistributedParameter(0.40, 20.0)\n",
    "U_VALUE_WINDOW = UniformDistributedParameter(1.95, 20.0)\n",
    "TRANSMISSION_ADJUSTMENT_GROUND = UniformDistributedParameter(0.91, 20.0)\n",
    "NATURAL_VENTILATION_RATE = UniformDistributedParameter(0.65, 20.0)\n",
    "MAX_HEATING_POWER = 0\n",
    "INITIAL_TEMPERATURE = UniformDistributedParameter(22, 35.2)\n",
    "NUMBER_DWELLINGS = 100"
   ]
  },
  {
   "cell_type": "code",
   "execution_count": null,
   "metadata": {},
   "outputs": [],
   "source": [
    "from itertools import chain\n",
    "\n",
    "def create_dwellings():\n",
    "    ids = list(range(104, NUMBER_DWELLINGS + 104))\n",
    "    return pd.DataFrame(\n",
    "        index=ids,\n",
    "        data = {\n",
    "            'thermalMassCapacity': [THERMAL_MASS_CAPACITY.sample() for unused in ids],\n",
    "            'thermalMassArea': [THERMAL_MASS_AREA.sample() for unused in ids],\n",
    "            'floorArea': CONDITIONED_FLOOR_AREA,\n",
    "            'roomHeight': [ROOM_HEIGHT.sample() for unused in ids],\n",
    "            'windowToWallRatio': [WINDOW_TO_WALL_RATIO.sample() for unused in ids],\n",
    "            'uWall': [U_VALUE_WALL.sample() for unused in ids],\n",
    "            'uRoof': [U_VALUE_ROOF.sample() for unused in ids],\n",
    "            'uFloor': [U_VALUE_FLOOR.sample() for unused in ids],\n",
    "            'uWindow': [U_VALUE_WINDOW.sample() for unused in ids],\n",
    "            'transmissionAdjustmentGround': [TRANSMISSION_ADJUSTMENT_GROUND.sample() for unused in ids],\n",
    "            'naturalVentilationRate': [NATURAL_VENTILATION_RATE.sample() for unused in ids],\n",
    "            'maxHeatingPower': MAX_HEATING_POWER,\n",
    "            'initialTemperature': [INITIAL_TEMPERATURE.sample() for unused in ids],\n",
    "            'heatingControlStrategy': [random.choice(['OFF', 'FLAT', 'TIME_TRIGGERED', 'PRESENCE_TRIGGERED']) \n",
    "                                       for unused in ids],\n",
    "            'districtId': list(chain(*[[x]*10 for x in range(NUMBER_DWELLINGS // 10)]))\n",
    "        }\n",
    "    )"
   ]
  },
  {
   "cell_type": "code",
   "execution_count": null,
   "metadata": {},
   "outputs": [],
   "source": [
    "dwellings = create_dwellings()\n",
    "dwellings.head()"
   ]
  },
  {
   "cell_type": "code",
   "execution_count": null,
   "metadata": {},
   "outputs": [],
   "source": [
    "assert len(dwellings.index) == NUMBER_DWELLINGS"
   ]
  },
  {
   "cell_type": "code",
   "execution_count": null,
   "metadata": {},
   "outputs": [],
   "source": [
    "df_to_db(dwellings, DWELLINGS_TABLE_NAME)"
   ]
  },
  {
   "cell_type": "markdown",
   "metadata": {},
   "source": [
    "## People"
   ]
  },
  {
   "cell_type": "code",
   "execution_count": null,
   "metadata": {},
   "outputs": [],
   "source": [
    "NUMBER_PEOPLE = 200"
   ]
  },
  {
   "cell_type": "code",
   "execution_count": null,
   "metadata": {},
   "outputs": [],
   "source": [
    "def create_people():\n",
    "    ids = list(range(1, NUMBER_PEOPLE * 2, 2))\n",
    "    return pd.DataFrame(\n",
    "        index=ids,\n",
    "        data = {\n",
    "            'markovChainId': [{1: 89, 2:22}[round(random.uniform(1, 2))] for unused in ids],\n",
    "            'dwellingId': [round(random.uniform(104, NUMBER_DWELLINGS + 103)) for unused in ids],\n",
    "            'initialActivity': [{1: 'HOME', 2: 'NOT_AT_HOME'}[round(random.uniform(1, 2))] for unused in ids],\n",
    "            'randomSeed': [123456789 + person_id for person_id in ids],\n",
    "            'activeMetabolicRate': 100.0,\n",
    "            'passiveMetabolicRate': 50.0\n",
    "        }\n",
    "    )"
   ]
  },
  {
   "cell_type": "code",
   "execution_count": null,
   "metadata": {},
   "outputs": [],
   "source": [
    "people = create_people()\n",
    "people.head()"
   ]
  },
  {
   "cell_type": "code",
   "execution_count": null,
   "metadata": {},
   "outputs": [],
   "source": [
    "assert len(people.index) == NUMBER_PEOPLE\n",
    "assert all(dwellingId in dwellings.index for dwellingId in people.dwellingId)"
   ]
  },
  {
   "cell_type": "code",
   "execution_count": null,
   "metadata": {},
   "outputs": [],
   "source": [
    "df_to_db(people, PEOPLE_TABLE_NAME)"
   ]
  },
  {
   "cell_type": "markdown",
   "metadata": {},
   "source": [
    "## Environment"
   ]
  },
  {
   "cell_type": "code",
   "execution_count": null,
   "metadata": {},
   "outputs": [],
   "source": [
    "def create_temperature_profile():\n",
    "    index = pd.date_range('2015-01-01 00:00', '2015-12-31 12:00', freq='12H')\n",
    "    x = np.linspace(0, len(index) - 1, num=len(index))\n",
    "    return pd.Series(\n",
    "        name='temperature',\n",
    "        index=index,\n",
    "        data=10 + 5 * np.sin(-1 + x / 2 * 2 * math.pi) + 10 * np.sin(-1.5 + x / len(index) * 2 * math.pi)\n",
    "    )\n",
    "    \n",
    "def plot_temperature(df):\n",
    "    fig = plt.figure(figsize=(14, 5))\n",
    "    _ = plt.plot(df)\n",
    "    plt.title(\"Synthesized temperature profile\")\n",
    "    plt.ylabel(\"temperature [˚C]\")\n",
    "    plt.xlabel(\"datetime\")"
   ]
  },
  {
   "cell_type": "code",
   "execution_count": null,
   "metadata": {},
   "outputs": [],
   "source": [
    "temperature = create_temperature_profile()\n",
    "plot_temperature(temperature)"
   ]
  },
  {
   "cell_type": "code",
   "execution_count": null,
   "metadata": {},
   "outputs": [],
   "source": [
    "df_to_db(temperature, ENVIRONMENT_TABLE_NAME)"
   ]
  },
  {
   "cell_type": "markdown",
   "metadata": {},
   "source": [
    "## Simulation Parameters"
   ]
  },
  {
   "cell_type": "code",
   "execution_count": null,
   "metadata": {},
   "outputs": [],
   "source": [
    "def create_simulation_parameters():\n",
    "    return pd.DataFrame(\n",
    "        index = [1],\n",
    "        data = {\n",
    "            'initialDatetime': temperature.index[0],\n",
    "            'timeStepSize_in_min': timedelta(hours=12).total_seconds() / 60, # timedelta not supported in SQL\n",
    "            'numberTimeSteps': 90,\n",
    "            'logThermalPower': False,\n",
    "            'logTemperature': True,\n",
    "            'logActivity': True,\n",
    "            'logAggregated': False,\n",
    "            'setPointWhileHome': 24.0,\n",
    "            'setPointWhileAsleep': 18.0,\n",
    "            'wakeUpTime': time(8, 0),\n",
    "            'leaveHomeTime': time(9, 0),\n",
    "            'comeHomeTime': time(18, 0),\n",
    "            'bedTime': time(22, 0)\n",
    "        }\n",
    "    )"
   ]
  },
  {
   "cell_type": "code",
   "execution_count": null,
   "metadata": {},
   "outputs": [],
   "source": [
    "simulation_parameters = create_simulation_parameters()\n",
    "simulation_parameters.head()"
   ]
  },
  {
   "cell_type": "code",
   "execution_count": null,
   "metadata": {},
   "outputs": [],
   "source": [
    "df_to_db(simulation_parameters, PARAMETERS_TABLE_NAME)"
   ]
  }
 ],
 "metadata": {
  "anaconda-cloud": {},
  "kernelspec": {
   "display_name": "Python [conda env:urban-occupants]",
   "language": "python",
   "name": "conda-env-urban-occupants-py"
  },
  "language_info": {
   "codemirror_mode": {
    "name": "ipython",
    "version": 3
   },
   "file_extension": ".py",
   "mimetype": "text/x-python",
   "name": "python",
   "nbconvert_exporter": "python",
   "pygments_lexer": "ipython3",
   "version": "3.6.1"
  }
 },
 "nbformat": 4,
 "nbformat_minor": 2
}
